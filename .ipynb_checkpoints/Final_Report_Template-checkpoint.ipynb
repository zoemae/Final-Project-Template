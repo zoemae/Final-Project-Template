{
 "cells": [
  {
   "cell_type": "code",
   "execution_count": 1,
   "id": "2743e421-15b6-42d6-a618-1e7ed2da610a",
   "metadata": {
    "tags": []
   },
   "outputs": [],
   "source": [
    "# Import necessary packages here, e.g.\n",
    "import numpy as np               # for numerical operations\n",
    "import matplotlib.pyplot as plt  # for plotting\n",
    "\n",
    "# Add other packages as needed, for example:\n",
    "# import pandas as pd            # for data manipulation"
   ]
  },
  {
   "cell_type": "markdown",
   "id": "3ef08846-924c-4a43-9d9a-caf69a320591",
   "metadata": {},
   "source": [
    "# Descriptive Project Title  \n",
    "*(Replace \"Descriptive Project Title\" above with the actual title of your project)*\n",
    "\n",
    "**Your Name**  \n",
    "*(Replace \"Your Name\" with your full name)*  \n",
    "\n",
    "OCEAN 215 Final Project  \n",
    "Autumn 2024"
   ]
  },
  {
   "cell_type": "markdown",
   "id": "cbb3b484-c0d1-4154-9b8e-940f05b63a53",
   "metadata": {},
   "source": [
    "## Introduction\n",
    "\n",
    "<!-- Include your motivation and any background information needed to understand your research question and data analysis. Clearly state your research question and hypothesis. -->\n",
    "\n",
    "*(Write 1–2 paragraphs below)*  \n",
    "\n",
    "Your introduction here.\n"
   ]
  },
  {
   "cell_type": "markdown",
   "id": "32255486-9337-4438-bde6-2142bd2a39ea",
   "metadata": {},
   "source": [
    "## Data sources:\n",
    "<!-- List each data source used in your project. For each dataset, include: \n",
    "     - Where you accessed it from \n",
    "     - Date you accessed/downloaded it \n",
    "     - Data collection process\n",
    "     - Relevant variables (including unit) \n",
    "     - Spatial and temporal coverage and resolution \n",
    "     - Description of any obstacles or challenges you faced in obtaining the dataset\n",
    "     - URL to the dataset if available -->\n",
    "\n",
    "- {Dataset 1}\n",
    "  - Downloaded from {data source} *e.g., National Data Buoy Center* on {date} *e.g., 2024-10-30*.\n",
    "  - Data collection process: *e.g. Data collected by inductive T sensor deployed on stationary mooring at 20 m depth.*\n",
    "  - Relevant variables included: \n",
    "    - {Variable 1 including units} *e.g. Water Temperature at 20m depth (&deg;C)*\n",
    "  - Spatial coverage and resolution: {coverage}, {resolution} *e.g., global, 1-degree grid*\n",
    "  - Obstacles to data access: *e.g. Data for each mooring had to be accessed individually so I had to acquire 10 data files and merge them together using pandas.*\n",
    "  - Temporal coverage and resolution: {coverage}, {resolution} *e.g., monthly, 1980-2020*\n",
    "  - URL to dataset: {insert URL} \n",
    "<br>\n",
    "- {Dataset 2}\n",
    "  - etc."
   ]
  },
  {
   "cell_type": "markdown",
   "id": "efd639fc-f10d-45bc-a4c1-0c28a130a437",
   "metadata": {},
   "source": [
    "## 1. {Section 1 Title}  \n",
    "*(Replace \"Section 1 Title\" with something meaningful, e.g., \"Analyzing Seasonal Temperature Trends\")* \n",
    "\n",
    "<!-- In this cell, introduction the data set(s) you are working with, specify which aspect of your research question this section addresses, and describe the figure you will produce. -->\n",
    "\n",
    "Short introduction to this section here."
   ]
  },
  {
   "cell_type": "code",
   "execution_count": 2,
   "id": "d823871a-1bf7-465d-906f-67c63325f48a",
   "metadata": {
    "tags": []
   },
   "outputs": [],
   "source": [
    "# load data file(s)\n",
    "\n",
    "# as part of commenting your code throughout this section, discuss any problems you encountered and how you solved them"
   ]
  },
  {
   "cell_type": "code",
   "execution_count": 3,
   "id": "100039bc-51c5-43e6-bb00-bfbf637ca585",
   "metadata": {
    "tags": []
   },
   "outputs": [],
   "source": [
    "# perform data cleaning steps"
   ]
  },
  {
   "cell_type": "code",
   "execution_count": 4,
   "id": "5f0c56ad-c1c6-4253-9f50-2f97a5396b89",
   "metadata": {
    "tags": []
   },
   "outputs": [],
   "source": [
    "# perform data analysis"
   ]
  },
  {
   "cell_type": "code",
   "execution_count": 5,
   "id": "187fdf0a-b93a-4bd6-941f-25005b94d0d1",
   "metadata": {
    "tags": []
   },
   "outputs": [],
   "source": [
    "# make and display the first figure"
   ]
  },
  {
   "cell_type": "markdown",
   "id": "6e5091d8-ebb4-4835-bed4-4257d53afa0b",
   "metadata": {},
   "source": [
    "<!-- Describe how this figure helps address your research question. What patterns or insights can you observe? -->\n",
    "**Figure 1 Caption:** Your caption here."
   ]
  },
  {
   "cell_type": "markdown",
   "id": "ba4015f5-8d5f-445c-bee8-b2e480826935",
   "metadata": {},
   "source": [
    "## 2. {Section 2 Title}  \n",
    "\n",
    "<!-- In the introduction below, specify the data set(s) you are working with in this section, which aspect of your research question this section addresses, and the figure you will produce -->\n",
    "\n",
    "Short introduction to this section here."
   ]
  },
  {
   "cell_type": "code",
   "execution_count": 6,
   "id": "60f4144c-a89c-4877-b2b1-2199810fd996",
   "metadata": {
    "tags": []
   },
   "outputs": [],
   "source": [
    "# if a new dataset, load data and perform data cleaning steps\n",
    "# otherwise, continue to data analysis and figure creation"
   ]
  },
  {
   "cell_type": "code",
   "execution_count": 7,
   "id": "def0e6cf-2973-491d-9934-d8cd44cfcbd0",
   "metadata": {
    "tags": []
   },
   "outputs": [],
   "source": [
    "# perform data analysis"
   ]
  },
  {
   "cell_type": "code",
   "execution_count": 8,
   "id": "6d43f6bd-4f98-45bd-a7ba-6b46873f4811",
   "metadata": {
    "tags": []
   },
   "outputs": [],
   "source": [
    "# make and display figure"
   ]
  },
  {
   "cell_type": "markdown",
   "id": "cc2b8df7-25ff-4ab3-9c52-f3c687b2d2e8",
   "metadata": {},
   "source": [
    "<!-- Describe how this figure helps address your research question. What patterns or insights can you observe? -->\n",
    "**Figure 2 Caption:** Your caption here."
   ]
  },
  {
   "cell_type": "markdown",
   "id": "1b8ea48e-f244-4a23-b289-e2ffc08d4ed3",
   "metadata": {},
   "source": [
    "## 3. {Section 3 Title}  \n",
    "\n",
    "<!-- In the introduction below, specify the data set(s) you are working with in this section, which aspect of your research question this section addresses, and the figure you will produce -->\n",
    "\n",
    "Short introduction to this section here."
   ]
  },
  {
   "cell_type": "code",
   "execution_count": 9,
   "id": "94239082-de2e-4786-9522-1c81bed1c0b4",
   "metadata": {
    "tags": []
   },
   "outputs": [],
   "source": [
    "# if a new dataset, load data and perform data cleaning steps\n",
    "# otherwise, continue to data analysis and figure creation"
   ]
  },
  {
   "cell_type": "code",
   "execution_count": 10,
   "id": "63ccab2e-6597-4d3f-a7c0-eaedbea9c345",
   "metadata": {
    "tags": []
   },
   "outputs": [],
   "source": [
    "# perform data analysis"
   ]
  },
  {
   "cell_type": "code",
   "execution_count": 11,
   "id": "b28f2e82-8955-4fb4-81ff-56c8ef2dc075",
   "metadata": {
    "tags": []
   },
   "outputs": [],
   "source": [
    "# make and display figure"
   ]
  },
  {
   "cell_type": "markdown",
   "id": "d2006079-2a51-4951-b22e-2496389b2cdb",
   "metadata": {},
   "source": [
    "<!-- Describe how this figure helps address your research question. What patterns or insights can you observe? -->\n",
    "**Figure 3 Caption:** Your caption here."
   ]
  },
  {
   "cell_type": "markdown",
   "id": "bf714377-641b-450d-a411-c16753ba2368",
   "metadata": {},
   "source": [
    "## Discussion\n",
    "**Interpretation of Results:**  *(Write ~1 paragraph below)*\n",
    "<!-- Summarize what you learned from each data analysis section/figure. Discuss key insights and conclusions regarding your research question. Do your results support or contradict your hypothesis? -->\n",
    "\n",
    "**Limitations and Future Work:**  *(Write ~1 paragraph below)*\n",
    "<!-- Identify limitations in your analysis. Discuss any factors that may have impacted the validity or reliability of your results (e.g., data quality, sample size, assumptions). -->\n",
    "<!-- What next steps could you or another researcher take to continue investigating this research question? Suggest ideas for further research, data collection, or alternative methodologies that could enhance understanding of the topic. -->"
   ]
  },
  {
   "cell_type": "markdown",
   "id": "e9c30d77-0f2d-4320-bf3b-e9e053b6a8ec",
   "metadata": {},
   "source": [
    "## References  \n",
    "\n",
    "*Cite all papers, websites, or other resources you referenced in your project. Use a consistent citation style (e.g., APA, MLA, Chicago).*\n",
    "\n",
    "1. **Author(s).** (Year). *Title of the work*. Publisher. URL (if applicable)  \n",
    "\n",
    "3. **Website Name.** (Date accessed). *Title of the webpage*. URL  \n",
    "\n",
    "*Continue listing additional references as needed.*"
   ]
  }
 ],
 "metadata": {
  "kernelspec": {
   "display_name": "Python 3 (ipykernel)",
   "language": "python",
   "name": "python3"
  },
  "language_info": {
   "codemirror_mode": {
    "name": "ipython",
    "version": 3
   },
   "file_extension": ".py",
   "mimetype": "text/x-python",
   "name": "python",
   "nbconvert_exporter": "python",
   "pygments_lexer": "ipython3",
   "version": "3.10.10"
  }
 },
 "nbformat": 4,
 "nbformat_minor": 5
}
